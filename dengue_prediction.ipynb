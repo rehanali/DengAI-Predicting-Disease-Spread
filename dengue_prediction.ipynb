{
 "cells": [
  {
   "cell_type": "markdown",
   "metadata": {},
   "source": [
    "# DengAI: Predicting Disease Spread\n",
    "Your goal is to predict the total_cases label for each (city, year, weekofyear) in the test set. There are two cities, San Juan and Iquitos, with test data for each city spanning 5 and 3 years respectively. \n",
    "\n",
    "The data for each city have been concatenated along with a city column indicating the source: sj for San Juan and iq for Iquitos. The test set is a pure future hold-out, meaning the test data are sequential and non-overlapping with any of the training data. "
   ]
  },
  {
   "cell_type": "code",
   "execution_count": 106,
   "metadata": {},
   "outputs": [],
   "source": [
    "library(ggplot2)\n",
    "library(plotly)\n",
    "library(usdm)\n",
    "library(corrplot)\n",
    "library(repr)"
   ]
  },
  {
   "cell_type": "code",
   "execution_count": 107,
   "metadata": {},
   "outputs": [],
   "source": [
    "# install.packages(\"usdm\",repos = 'http://cran.us.r-project.org')"
   ]
  },
  {
   "cell_type": "code",
   "execution_count": 108,
   "metadata": {
    "collapsed": true
   },
   "outputs": [],
   "source": [
    "train = read.csv(\"C:/Users/RAA090/Documents/Personal/data_sets/DengAI Predicting Disease Spread/dengue_features_train.csv\")\n",
    "train_label = read.csv(\"C:/Users/RAA090/Documents/Personal/data_sets/DengAI Predicting Disease Spread/dengue_labels_train.csv\")\n",
    "test = read.csv(\"C:/Users/RAA090/Documents/Personal/data_sets/DengAI Predicting Disease Spread/dengue_features_test.csv\")"
   ]
  },
  {
   "cell_type": "code",
   "execution_count": 109,
   "metadata": {},
   "outputs": [
    {
     "data": {
      "text/html": [
       "<table>\n",
       "<thead><tr><th scope=col>city</th><th scope=col>year</th><th scope=col>weekofyear</th><th scope=col>week_start_date</th><th scope=col>ndvi_ne</th><th scope=col>ndvi_nw</th><th scope=col>ndvi_se</th><th scope=col>ndvi_sw</th><th scope=col>precipitation_amt_mm</th><th scope=col>reanalysis_air_temp_k</th><th scope=col>...</th><th scope=col>reanalysis_precip_amt_kg_per_m2</th><th scope=col>reanalysis_relative_humidity_percent</th><th scope=col>reanalysis_sat_precip_amt_mm</th><th scope=col>reanalysis_specific_humidity_g_per_kg</th><th scope=col>reanalysis_tdtr_k</th><th scope=col>station_avg_temp_c</th><th scope=col>station_diur_temp_rng_c</th><th scope=col>station_max_temp_c</th><th scope=col>station_min_temp_c</th><th scope=col>station_precip_mm</th></tr></thead>\n",
       "<tbody>\n",
       "\t<tr><td>sj        </td><td>1990      </td><td>18        </td><td>1990-04-30</td><td>0.1226000 </td><td>0.1037250 </td><td>0.1984833 </td><td>0.1776167 </td><td>12.42     </td><td>297.5729  </td><td>...       </td><td>32.00     </td><td>73.36571  </td><td>12.42     </td><td>14.01286  </td><td>2.628571  </td><td>25.44286  </td><td>6.900000  </td><td>29.4      </td><td>20.0      </td><td>16.0      </td></tr>\n",
       "\t<tr><td>sj        </td><td>1990      </td><td>19        </td><td>1990-05-07</td><td>0.1699000 </td><td>0.1421750 </td><td>0.1623571 </td><td>0.1554857 </td><td>22.82     </td><td>298.2114  </td><td>...       </td><td>17.94     </td><td>77.36857  </td><td>22.82     </td><td>15.37286  </td><td>2.371429  </td><td>26.71429  </td><td>6.371429  </td><td>31.7      </td><td>22.2      </td><td> 8.6      </td></tr>\n",
       "\t<tr><td>sj        </td><td>1990      </td><td>20        </td><td>1990-05-14</td><td>0.0322500 </td><td>0.1729667 </td><td>0.1572000 </td><td>0.1708429 </td><td>34.54     </td><td>298.7814  </td><td>...       </td><td>26.10     </td><td>82.05286  </td><td>34.54     </td><td>16.84857  </td><td>2.300000  </td><td>26.71429  </td><td>6.485714  </td><td>32.2      </td><td>22.8      </td><td>41.4      </td></tr>\n",
       "\t<tr><td>sj        </td><td>1990      </td><td>21        </td><td>1990-05-21</td><td>0.1286333 </td><td>0.2450667 </td><td>0.2275571 </td><td>0.2358857 </td><td>15.36     </td><td>298.9871  </td><td>...       </td><td>13.90     </td><td>80.33714  </td><td>15.36     </td><td>16.67286  </td><td>2.428571  </td><td>27.47143  </td><td>6.771429  </td><td>33.3      </td><td>23.3      </td><td> 4.0      </td></tr>\n",
       "\t<tr><td>sj        </td><td>1990      </td><td>22        </td><td>1990-05-28</td><td>0.1962000 </td><td>0.2622000 </td><td>0.2512000 </td><td>0.2473400 </td><td> 7.52     </td><td>299.5186  </td><td>...       </td><td>12.20     </td><td>80.46000  </td><td> 7.52     </td><td>17.21000  </td><td>3.014286  </td><td>28.94286  </td><td>9.371429  </td><td>35.0      </td><td>23.9      </td><td> 5.8      </td></tr>\n",
       "\t<tr><td>sj        </td><td>1990      </td><td>23        </td><td>1990-06-04</td><td>       NA </td><td>0.1748500 </td><td>0.2543143 </td><td>0.1817429 </td><td> 9.58     </td><td>299.6300  </td><td>...       </td><td>26.49     </td><td>79.89143  </td><td> 9.58     </td><td>17.21286  </td><td>2.100000  </td><td>28.11429  </td><td>6.942857  </td><td>34.4      </td><td>23.9      </td><td>39.1      </td></tr>\n",
       "</tbody>\n",
       "</table>\n"
      ],
      "text/latex": [
       "\\begin{tabular}{r|llllllllllllllllllllllll}\n",
       " city & year & weekofyear & week\\_start\\_date & ndvi\\_ne & ndvi\\_nw & ndvi\\_se & ndvi\\_sw & precipitation\\_amt\\_mm & reanalysis\\_air\\_temp\\_k & ... & reanalysis\\_precip\\_amt\\_kg\\_per\\_m2 & reanalysis\\_relative\\_humidity\\_percent & reanalysis\\_sat\\_precip\\_amt\\_mm & reanalysis\\_specific\\_humidity\\_g\\_per\\_kg & reanalysis\\_tdtr\\_k & station\\_avg\\_temp\\_c & station\\_diur\\_temp\\_rng\\_c & station\\_max\\_temp\\_c & station\\_min\\_temp\\_c & station\\_precip\\_mm\\\\\n",
       "\\hline\n",
       "\t sj         & 1990       & 18         & 1990-04-30 & 0.1226000  & 0.1037250  & 0.1984833  & 0.1776167  & 12.42      & 297.5729   & ...        & 32.00      & 73.36571   & 12.42      & 14.01286   & 2.628571   & 25.44286   & 6.900000   & 29.4       & 20.0       & 16.0      \\\\\n",
       "\t sj         & 1990       & 19         & 1990-05-07 & 0.1699000  & 0.1421750  & 0.1623571  & 0.1554857  & 22.82      & 298.2114   & ...        & 17.94      & 77.36857   & 22.82      & 15.37286   & 2.371429   & 26.71429   & 6.371429   & 31.7       & 22.2       &  8.6      \\\\\n",
       "\t sj         & 1990       & 20         & 1990-05-14 & 0.0322500  & 0.1729667  & 0.1572000  & 0.1708429  & 34.54      & 298.7814   & ...        & 26.10      & 82.05286   & 34.54      & 16.84857   & 2.300000   & 26.71429   & 6.485714   & 32.2       & 22.8       & 41.4      \\\\\n",
       "\t sj         & 1990       & 21         & 1990-05-21 & 0.1286333  & 0.2450667  & 0.2275571  & 0.2358857  & 15.36      & 298.9871   & ...        & 13.90      & 80.33714   & 15.36      & 16.67286   & 2.428571   & 27.47143   & 6.771429   & 33.3       & 23.3       &  4.0      \\\\\n",
       "\t sj         & 1990       & 22         & 1990-05-28 & 0.1962000  & 0.2622000  & 0.2512000  & 0.2473400  &  7.52      & 299.5186   & ...        & 12.20      & 80.46000   &  7.52      & 17.21000   & 3.014286   & 28.94286   & 9.371429   & 35.0       & 23.9       &  5.8      \\\\\n",
       "\t sj         & 1990       & 23         & 1990-06-04 &        NA  & 0.1748500  & 0.2543143  & 0.1817429  &  9.58      & 299.6300   & ...        & 26.49      & 79.89143   &  9.58      & 17.21286   & 2.100000   & 28.11429   & 6.942857   & 34.4       & 23.9       & 39.1      \\\\\n",
       "\\end{tabular}\n"
      ],
      "text/markdown": [
       "\n",
       "city | year | weekofyear | week_start_date | ndvi_ne | ndvi_nw | ndvi_se | ndvi_sw | precipitation_amt_mm | reanalysis_air_temp_k | ... | reanalysis_precip_amt_kg_per_m2 | reanalysis_relative_humidity_percent | reanalysis_sat_precip_amt_mm | reanalysis_specific_humidity_g_per_kg | reanalysis_tdtr_k | station_avg_temp_c | station_diur_temp_rng_c | station_max_temp_c | station_min_temp_c | station_precip_mm | \n",
       "|---|---|---|---|---|---|\n",
       "| sj         | 1990       | 18         | 1990-04-30 | 0.1226000  | 0.1037250  | 0.1984833  | 0.1776167  | 12.42      | 297.5729   | ...        | 32.00      | 73.36571   | 12.42      | 14.01286   | 2.628571   | 25.44286   | 6.900000   | 29.4       | 20.0       | 16.0       | \n",
       "| sj         | 1990       | 19         | 1990-05-07 | 0.1699000  | 0.1421750  | 0.1623571  | 0.1554857  | 22.82      | 298.2114   | ...        | 17.94      | 77.36857   | 22.82      | 15.37286   | 2.371429   | 26.71429   | 6.371429   | 31.7       | 22.2       |  8.6       | \n",
       "| sj         | 1990       | 20         | 1990-05-14 | 0.0322500  | 0.1729667  | 0.1572000  | 0.1708429  | 34.54      | 298.7814   | ...        | 26.10      | 82.05286   | 34.54      | 16.84857   | 2.300000   | 26.71429   | 6.485714   | 32.2       | 22.8       | 41.4       | \n",
       "| sj         | 1990       | 21         | 1990-05-21 | 0.1286333  | 0.2450667  | 0.2275571  | 0.2358857  | 15.36      | 298.9871   | ...        | 13.90      | 80.33714   | 15.36      | 16.67286   | 2.428571   | 27.47143   | 6.771429   | 33.3       | 23.3       |  4.0       | \n",
       "| sj         | 1990       | 22         | 1990-05-28 | 0.1962000  | 0.2622000  | 0.2512000  | 0.2473400  |  7.52      | 299.5186   | ...        | 12.20      | 80.46000   |  7.52      | 17.21000   | 3.014286   | 28.94286   | 9.371429   | 35.0       | 23.9       |  5.8       | \n",
       "| sj         | 1990       | 23         | 1990-06-04 |        NA  | 0.1748500  | 0.2543143  | 0.1817429  |  9.58      | 299.6300   | ...        | 26.49      | 79.89143   |  9.58      | 17.21286   | 2.100000   | 28.11429   | 6.942857   | 34.4       | 23.9       | 39.1       | \n",
       "\n",
       "\n"
      ],
      "text/plain": [
       "  city year weekofyear week_start_date ndvi_ne   ndvi_nw   ndvi_se   ndvi_sw  \n",
       "1 sj   1990 18         1990-04-30      0.1226000 0.1037250 0.1984833 0.1776167\n",
       "2 sj   1990 19         1990-05-07      0.1699000 0.1421750 0.1623571 0.1554857\n",
       "3 sj   1990 20         1990-05-14      0.0322500 0.1729667 0.1572000 0.1708429\n",
       "4 sj   1990 21         1990-05-21      0.1286333 0.2450667 0.2275571 0.2358857\n",
       "5 sj   1990 22         1990-05-28      0.1962000 0.2622000 0.2512000 0.2473400\n",
       "6 sj   1990 23         1990-06-04             NA 0.1748500 0.2543143 0.1817429\n",
       "  precipitation_amt_mm reanalysis_air_temp_k ...\n",
       "1 12.42                297.5729              ...\n",
       "2 22.82                298.2114              ...\n",
       "3 34.54                298.7814              ...\n",
       "4 15.36                298.9871              ...\n",
       "5  7.52                299.5186              ...\n",
       "6  9.58                299.6300              ...\n",
       "  reanalysis_precip_amt_kg_per_m2 reanalysis_relative_humidity_percent\n",
       "1 32.00                           73.36571                            \n",
       "2 17.94                           77.36857                            \n",
       "3 26.10                           82.05286                            \n",
       "4 13.90                           80.33714                            \n",
       "5 12.20                           80.46000                            \n",
       "6 26.49                           79.89143                            \n",
       "  reanalysis_sat_precip_amt_mm reanalysis_specific_humidity_g_per_kg\n",
       "1 12.42                        14.01286                             \n",
       "2 22.82                        15.37286                             \n",
       "3 34.54                        16.84857                             \n",
       "4 15.36                        16.67286                             \n",
       "5  7.52                        17.21000                             \n",
       "6  9.58                        17.21286                             \n",
       "  reanalysis_tdtr_k station_avg_temp_c station_diur_temp_rng_c\n",
       "1 2.628571          25.44286           6.900000               \n",
       "2 2.371429          26.71429           6.371429               \n",
       "3 2.300000          26.71429           6.485714               \n",
       "4 2.428571          27.47143           6.771429               \n",
       "5 3.014286          28.94286           9.371429               \n",
       "6 2.100000          28.11429           6.942857               \n",
       "  station_max_temp_c station_min_temp_c station_precip_mm\n",
       "1 29.4               20.0               16.0             \n",
       "2 31.7               22.2                8.6             \n",
       "3 32.2               22.8               41.4             \n",
       "4 33.3               23.3                4.0             \n",
       "5 35.0               23.9                5.8             \n",
       "6 34.4               23.9               39.1             "
      ]
     },
     "metadata": {},
     "output_type": "display_data"
    }
   ],
   "source": [
    "head(train)"
   ]
  },
  {
   "cell_type": "code",
   "execution_count": 110,
   "metadata": {},
   "outputs": [
    {
     "data": {
      "text/html": [
       "<ol class=list-inline>\n",
       "\t<li>1456</li>\n",
       "\t<li>24</li>\n",
       "</ol>\n"
      ],
      "text/latex": [
       "\\begin{enumerate*}\n",
       "\\item 1456\n",
       "\\item 24\n",
       "\\end{enumerate*}\n"
      ],
      "text/markdown": [
       "1. 1456\n",
       "2. 24\n",
       "\n",
       "\n"
      ],
      "text/plain": [
       "[1] 1456   24"
      ]
     },
     "metadata": {},
     "output_type": "display_data"
    }
   ],
   "source": [
    "dim(train)"
   ]
  },
  {
   "cell_type": "code",
   "execution_count": 111,
   "metadata": {},
   "outputs": [
    {
     "data": {
      "text/html": [
       "<table>\n",
       "<thead><tr><th scope=col>city</th><th scope=col>year</th><th scope=col>weekofyear</th><th scope=col>total_cases</th></tr></thead>\n",
       "<tbody>\n",
       "\t<tr><td>sj  </td><td>1990</td><td>18  </td><td>4   </td></tr>\n",
       "\t<tr><td>sj  </td><td>1990</td><td>19  </td><td>5   </td></tr>\n",
       "\t<tr><td>sj  </td><td>1990</td><td>20  </td><td>4   </td></tr>\n",
       "\t<tr><td>sj  </td><td>1990</td><td>21  </td><td>3   </td></tr>\n",
       "\t<tr><td>sj  </td><td>1990</td><td>22  </td><td>6   </td></tr>\n",
       "\t<tr><td>sj  </td><td>1990</td><td>23  </td><td>2   </td></tr>\n",
       "</tbody>\n",
       "</table>\n"
      ],
      "text/latex": [
       "\\begin{tabular}{r|llll}\n",
       " city & year & weekofyear & total\\_cases\\\\\n",
       "\\hline\n",
       "\t sj   & 1990 & 18   & 4   \\\\\n",
       "\t sj   & 1990 & 19   & 5   \\\\\n",
       "\t sj   & 1990 & 20   & 4   \\\\\n",
       "\t sj   & 1990 & 21   & 3   \\\\\n",
       "\t sj   & 1990 & 22   & 6   \\\\\n",
       "\t sj   & 1990 & 23   & 2   \\\\\n",
       "\\end{tabular}\n"
      ],
      "text/markdown": [
       "\n",
       "city | year | weekofyear | total_cases | \n",
       "|---|---|---|---|---|---|\n",
       "| sj   | 1990 | 18   | 4    | \n",
       "| sj   | 1990 | 19   | 5    | \n",
       "| sj   | 1990 | 20   | 4    | \n",
       "| sj   | 1990 | 21   | 3    | \n",
       "| sj   | 1990 | 22   | 6    | \n",
       "| sj   | 1990 | 23   | 2    | \n",
       "\n",
       "\n"
      ],
      "text/plain": [
       "  city year weekofyear total_cases\n",
       "1 sj   1990 18         4          \n",
       "2 sj   1990 19         5          \n",
       "3 sj   1990 20         4          \n",
       "4 sj   1990 21         3          \n",
       "5 sj   1990 22         6          \n",
       "6 sj   1990 23         2          "
      ]
     },
     "metadata": {},
     "output_type": "display_data"
    }
   ],
   "source": [
    "head(train_label)"
   ]
  },
  {
   "cell_type": "code",
   "execution_count": 112,
   "metadata": {},
   "outputs": [
    {
     "data": {
      "text/html": [
       "<ol class=list-inline>\n",
       "\t<li>1456</li>\n",
       "\t<li>4</li>\n",
       "</ol>\n"
      ],
      "text/latex": [
       "\\begin{enumerate*}\n",
       "\\item 1456\n",
       "\\item 4\n",
       "\\end{enumerate*}\n"
      ],
      "text/markdown": [
       "1. 1456\n",
       "2. 4\n",
       "\n",
       "\n"
      ],
      "text/plain": [
       "[1] 1456    4"
      ]
     },
     "metadata": {},
     "output_type": "display_data"
    }
   ],
   "source": [
    "dim(train_label)"
   ]
  },
  {
   "cell_type": "code",
   "execution_count": 113,
   "metadata": {},
   "outputs": [
    {
     "data": {
      "text/html": [
       "<table>\n",
       "<thead><tr><th scope=col>city</th><th scope=col>year</th><th scope=col>weekofyear</th><th scope=col>week_start_date</th><th scope=col>ndvi_ne</th><th scope=col>ndvi_nw</th><th scope=col>ndvi_se</th><th scope=col>ndvi_sw</th><th scope=col>precipitation_amt_mm</th><th scope=col>reanalysis_air_temp_k</th><th scope=col>...</th><th scope=col>reanalysis_precip_amt_kg_per_m2</th><th scope=col>reanalysis_relative_humidity_percent</th><th scope=col>reanalysis_sat_precip_amt_mm</th><th scope=col>reanalysis_specific_humidity_g_per_kg</th><th scope=col>reanalysis_tdtr_k</th><th scope=col>station_avg_temp_c</th><th scope=col>station_diur_temp_rng_c</th><th scope=col>station_max_temp_c</th><th scope=col>station_min_temp_c</th><th scope=col>station_precip_mm</th></tr></thead>\n",
       "<tbody>\n",
       "\t<tr><td>sj         </td><td>2008       </td><td>18         </td><td>2008-04-29 </td><td>-0.0189    </td><td>-0.01890000</td><td>0.10272860 </td><td>0.09120000 </td><td>78.60      </td><td>298.4929   </td><td>...        </td><td>25.37      </td><td>78.78143   </td><td>78.60      </td><td>15.91857   </td><td>3.128571   </td><td>26.52857   </td><td>7.057143   </td><td>33.3       </td><td>21.7       </td><td>75.2       </td></tr>\n",
       "\t<tr><td>sj         </td><td>2008       </td><td>19         </td><td>2008-05-06 </td><td>-0.0180    </td><td>-0.01240000</td><td>0.08204286 </td><td>0.07231429 </td><td>12.56      </td><td>298.4757   </td><td>...        </td><td>21.83      </td><td>78.23000   </td><td>12.56      </td><td>15.79143   </td><td>2.571429   </td><td>26.07143   </td><td>5.557143   </td><td>30.0       </td><td>22.2       </td><td>34.3       </td></tr>\n",
       "\t<tr><td>sj         </td><td>2008       </td><td>20         </td><td>2008-05-13 </td><td>-0.0015    </td><td>         NA</td><td>0.15108330 </td><td>0.09152857 </td><td> 3.66      </td><td>299.4557   </td><td>...        </td><td> 4.12      </td><td>78.27000   </td><td> 3.66      </td><td>16.67429   </td><td>4.428571   </td><td>27.92857   </td><td>7.785714   </td><td>32.8       </td><td>22.8       </td><td> 3.0       </td></tr>\n",
       "\t<tr><td>sj         </td><td>2008       </td><td>21         </td><td>2008-05-20 </td><td>     NA    </td><td>-0.01986667</td><td>0.12432860 </td><td>0.12568570 </td><td> 0.00      </td><td>299.6900   </td><td>...        </td><td> 2.20      </td><td>73.01571   </td><td> 0.00      </td><td>15.77571   </td><td>4.342857   </td><td>28.05714   </td><td>6.271429   </td><td>33.3       </td><td>24.4       </td><td> 0.3       </td></tr>\n",
       "\t<tr><td>sj         </td><td>2008       </td><td>22         </td><td>2008-05-27 </td><td> 0.0568    </td><td> 0.03983333</td><td>0.06226667 </td><td>0.07591429 </td><td> 0.76      </td><td>299.7800   </td><td>...        </td><td> 4.36      </td><td>74.08429   </td><td> 0.76      </td><td>16.13714   </td><td>3.542857   </td><td>27.61429   </td><td>7.085714   </td><td>33.3       </td><td>23.3       </td><td>84.1       </td></tr>\n",
       "\t<tr><td>sj         </td><td>2008       </td><td>23         </td><td>2008-06-03 </td><td>-0.0440    </td><td>-0.03046667</td><td>0.13200000 </td><td>0.08352857 </td><td>71.17      </td><td>299.7686   </td><td>...        </td><td>22.55      </td><td>76.55714   </td><td>71.17      </td><td>16.66714   </td><td>2.857143   </td><td>28.00000   </td><td>5.171429   </td><td>32.8       </td><td>25.0       </td><td>27.7       </td></tr>\n",
       "</tbody>\n",
       "</table>\n"
      ],
      "text/latex": [
       "\\begin{tabular}{r|llllllllllllllllllllllll}\n",
       " city & year & weekofyear & week\\_start\\_date & ndvi\\_ne & ndvi\\_nw & ndvi\\_se & ndvi\\_sw & precipitation\\_amt\\_mm & reanalysis\\_air\\_temp\\_k & ... & reanalysis\\_precip\\_amt\\_kg\\_per\\_m2 & reanalysis\\_relative\\_humidity\\_percent & reanalysis\\_sat\\_precip\\_amt\\_mm & reanalysis\\_specific\\_humidity\\_g\\_per\\_kg & reanalysis\\_tdtr\\_k & station\\_avg\\_temp\\_c & station\\_diur\\_temp\\_rng\\_c & station\\_max\\_temp\\_c & station\\_min\\_temp\\_c & station\\_precip\\_mm\\\\\n",
       "\\hline\n",
       "\t sj          & 2008        & 18          & 2008-04-29  & -0.0189     & -0.01890000 & 0.10272860  & 0.09120000  & 78.60       & 298.4929    & ...         & 25.37       & 78.78143    & 78.60       & 15.91857    & 3.128571    & 26.52857    & 7.057143    & 33.3        & 21.7        & 75.2       \\\\\n",
       "\t sj          & 2008        & 19          & 2008-05-06  & -0.0180     & -0.01240000 & 0.08204286  & 0.07231429  & 12.56       & 298.4757    & ...         & 21.83       & 78.23000    & 12.56       & 15.79143    & 2.571429    & 26.07143    & 5.557143    & 30.0        & 22.2        & 34.3       \\\\\n",
       "\t sj          & 2008        & 20          & 2008-05-13  & -0.0015     &          NA & 0.15108330  & 0.09152857  &  3.66       & 299.4557    & ...         &  4.12       & 78.27000    &  3.66       & 16.67429    & 4.428571    & 27.92857    & 7.785714    & 32.8        & 22.8        &  3.0       \\\\\n",
       "\t sj          & 2008        & 21          & 2008-05-20  &      NA     & -0.01986667 & 0.12432860  & 0.12568570  &  0.00       & 299.6900    & ...         &  2.20       & 73.01571    &  0.00       & 15.77571    & 4.342857    & 28.05714    & 6.271429    & 33.3        & 24.4        &  0.3       \\\\\n",
       "\t sj          & 2008        & 22          & 2008-05-27  &  0.0568     &  0.03983333 & 0.06226667  & 0.07591429  &  0.76       & 299.7800    & ...         &  4.36       & 74.08429    &  0.76       & 16.13714    & 3.542857    & 27.61429    & 7.085714    & 33.3        & 23.3        & 84.1       \\\\\n",
       "\t sj          & 2008        & 23          & 2008-06-03  & -0.0440     & -0.03046667 & 0.13200000  & 0.08352857  & 71.17       & 299.7686    & ...         & 22.55       & 76.55714    & 71.17       & 16.66714    & 2.857143    & 28.00000    & 5.171429    & 32.8        & 25.0        & 27.7       \\\\\n",
       "\\end{tabular}\n"
      ],
      "text/markdown": [
       "\n",
       "city | year | weekofyear | week_start_date | ndvi_ne | ndvi_nw | ndvi_se | ndvi_sw | precipitation_amt_mm | reanalysis_air_temp_k | ... | reanalysis_precip_amt_kg_per_m2 | reanalysis_relative_humidity_percent | reanalysis_sat_precip_amt_mm | reanalysis_specific_humidity_g_per_kg | reanalysis_tdtr_k | station_avg_temp_c | station_diur_temp_rng_c | station_max_temp_c | station_min_temp_c | station_precip_mm | \n",
       "|---|---|---|---|---|---|\n",
       "| sj          | 2008        | 18          | 2008-04-29  | -0.0189     | -0.01890000 | 0.10272860  | 0.09120000  | 78.60       | 298.4929    | ...         | 25.37       | 78.78143    | 78.60       | 15.91857    | 3.128571    | 26.52857    | 7.057143    | 33.3        | 21.7        | 75.2        | \n",
       "| sj          | 2008        | 19          | 2008-05-06  | -0.0180     | -0.01240000 | 0.08204286  | 0.07231429  | 12.56       | 298.4757    | ...         | 21.83       | 78.23000    | 12.56       | 15.79143    | 2.571429    | 26.07143    | 5.557143    | 30.0        | 22.2        | 34.3        | \n",
       "| sj          | 2008        | 20          | 2008-05-13  | -0.0015     |          NA | 0.15108330  | 0.09152857  |  3.66       | 299.4557    | ...         |  4.12       | 78.27000    |  3.66       | 16.67429    | 4.428571    | 27.92857    | 7.785714    | 32.8        | 22.8        |  3.0        | \n",
       "| sj          | 2008        | 21          | 2008-05-20  |      NA     | -0.01986667 | 0.12432860  | 0.12568570  |  0.00       | 299.6900    | ...         |  2.20       | 73.01571    |  0.00       | 15.77571    | 4.342857    | 28.05714    | 6.271429    | 33.3        | 24.4        |  0.3        | \n",
       "| sj          | 2008        | 22          | 2008-05-27  |  0.0568     |  0.03983333 | 0.06226667  | 0.07591429  |  0.76       | 299.7800    | ...         |  4.36       | 74.08429    |  0.76       | 16.13714    | 3.542857    | 27.61429    | 7.085714    | 33.3        | 23.3        | 84.1        | \n",
       "| sj          | 2008        | 23          | 2008-06-03  | -0.0440     | -0.03046667 | 0.13200000  | 0.08352857  | 71.17       | 299.7686    | ...         | 22.55       | 76.55714    | 71.17       | 16.66714    | 2.857143    | 28.00000    | 5.171429    | 32.8        | 25.0        | 27.7        | \n",
       "\n",
       "\n"
      ],
      "text/plain": [
       "  city year weekofyear week_start_date ndvi_ne ndvi_nw     ndvi_se   \n",
       "1 sj   2008 18         2008-04-29      -0.0189 -0.01890000 0.10272860\n",
       "2 sj   2008 19         2008-05-06      -0.0180 -0.01240000 0.08204286\n",
       "3 sj   2008 20         2008-05-13      -0.0015          NA 0.15108330\n",
       "4 sj   2008 21         2008-05-20           NA -0.01986667 0.12432860\n",
       "5 sj   2008 22         2008-05-27       0.0568  0.03983333 0.06226667\n",
       "6 sj   2008 23         2008-06-03      -0.0440 -0.03046667 0.13200000\n",
       "  ndvi_sw    precipitation_amt_mm reanalysis_air_temp_k ...\n",
       "1 0.09120000 78.60                298.4929              ...\n",
       "2 0.07231429 12.56                298.4757              ...\n",
       "3 0.09152857  3.66                299.4557              ...\n",
       "4 0.12568570  0.00                299.6900              ...\n",
       "5 0.07591429  0.76                299.7800              ...\n",
       "6 0.08352857 71.17                299.7686              ...\n",
       "  reanalysis_precip_amt_kg_per_m2 reanalysis_relative_humidity_percent\n",
       "1 25.37                           78.78143                            \n",
       "2 21.83                           78.23000                            \n",
       "3  4.12                           78.27000                            \n",
       "4  2.20                           73.01571                            \n",
       "5  4.36                           74.08429                            \n",
       "6 22.55                           76.55714                            \n",
       "  reanalysis_sat_precip_amt_mm reanalysis_specific_humidity_g_per_kg\n",
       "1 78.60                        15.91857                             \n",
       "2 12.56                        15.79143                             \n",
       "3  3.66                        16.67429                             \n",
       "4  0.00                        15.77571                             \n",
       "5  0.76                        16.13714                             \n",
       "6 71.17                        16.66714                             \n",
       "  reanalysis_tdtr_k station_avg_temp_c station_diur_temp_rng_c\n",
       "1 3.128571          26.52857           7.057143               \n",
       "2 2.571429          26.07143           5.557143               \n",
       "3 4.428571          27.92857           7.785714               \n",
       "4 4.342857          28.05714           6.271429               \n",
       "5 3.542857          27.61429           7.085714               \n",
       "6 2.857143          28.00000           5.171429               \n",
       "  station_max_temp_c station_min_temp_c station_precip_mm\n",
       "1 33.3               21.7               75.2             \n",
       "2 30.0               22.2               34.3             \n",
       "3 32.8               22.8                3.0             \n",
       "4 33.3               24.4                0.3             \n",
       "5 33.3               23.3               84.1             \n",
       "6 32.8               25.0               27.7             "
      ]
     },
     "metadata": {},
     "output_type": "display_data"
    }
   ],
   "source": [
    "head(test)"
   ]
  },
  {
   "cell_type": "code",
   "execution_count": 114,
   "metadata": {},
   "outputs": [
    {
     "data": {
      "text/html": [
       "<ol class=list-inline>\n",
       "\t<li>416</li>\n",
       "\t<li>24</li>\n",
       "</ol>\n"
      ],
      "text/latex": [
       "\\begin{enumerate*}\n",
       "\\item 416\n",
       "\\item 24\n",
       "\\end{enumerate*}\n"
      ],
      "text/markdown": [
       "1. 416\n",
       "2. 24\n",
       "\n",
       "\n"
      ],
      "text/plain": [
       "[1] 416  24"
      ]
     },
     "metadata": {},
     "output_type": "display_data"
    }
   ],
   "source": [
    "dim(test)"
   ]
  },
  {
   "cell_type": "code",
   "execution_count": 115,
   "metadata": {
    "collapsed": true
   },
   "outputs": [],
   "source": [
    "exclude = c(\"year\",\"weekofyear\",\"week_start_date\")"
   ]
  },
  {
   "cell_type": "code",
   "execution_count": 116,
   "metadata": {},
   "outputs": [],
   "source": [
    "all_feature = colnames(train)[!colnames(train) %in% exclude]"
   ]
  },
  {
   "cell_type": "code",
   "execution_count": 117,
   "metadata": {},
   "outputs": [
    {
     "data": {
      "text/html": [
       "<ol class=list-inline>\n",
       "\t<li>'city'</li>\n",
       "\t<li>'ndvi_ne'</li>\n",
       "\t<li>'ndvi_nw'</li>\n",
       "\t<li>'ndvi_se'</li>\n",
       "\t<li>'ndvi_sw'</li>\n",
       "\t<li>'precipitation_amt_mm'</li>\n",
       "\t<li>'reanalysis_air_temp_k'</li>\n",
       "\t<li>'reanalysis_avg_temp_k'</li>\n",
       "\t<li>'reanalysis_dew_point_temp_k'</li>\n",
       "\t<li>'reanalysis_max_air_temp_k'</li>\n",
       "\t<li>'reanalysis_min_air_temp_k'</li>\n",
       "\t<li>'reanalysis_precip_amt_kg_per_m2'</li>\n",
       "\t<li>'reanalysis_relative_humidity_percent'</li>\n",
       "\t<li>'reanalysis_sat_precip_amt_mm'</li>\n",
       "\t<li>'reanalysis_specific_humidity_g_per_kg'</li>\n",
       "\t<li>'reanalysis_tdtr_k'</li>\n",
       "\t<li>'station_avg_temp_c'</li>\n",
       "\t<li>'station_diur_temp_rng_c'</li>\n",
       "\t<li>'station_max_temp_c'</li>\n",
       "\t<li>'station_min_temp_c'</li>\n",
       "\t<li>'station_precip_mm'</li>\n",
       "</ol>\n"
      ],
      "text/latex": [
       "\\begin{enumerate*}\n",
       "\\item 'city'\n",
       "\\item 'ndvi\\_ne'\n",
       "\\item 'ndvi\\_nw'\n",
       "\\item 'ndvi\\_se'\n",
       "\\item 'ndvi\\_sw'\n",
       "\\item 'precipitation\\_amt\\_mm'\n",
       "\\item 'reanalysis\\_air\\_temp\\_k'\n",
       "\\item 'reanalysis\\_avg\\_temp\\_k'\n",
       "\\item 'reanalysis\\_dew\\_point\\_temp\\_k'\n",
       "\\item 'reanalysis\\_max\\_air\\_temp\\_k'\n",
       "\\item 'reanalysis\\_min\\_air\\_temp\\_k'\n",
       "\\item 'reanalysis\\_precip\\_amt\\_kg\\_per\\_m2'\n",
       "\\item 'reanalysis\\_relative\\_humidity\\_percent'\n",
       "\\item 'reanalysis\\_sat\\_precip\\_amt\\_mm'\n",
       "\\item 'reanalysis\\_specific\\_humidity\\_g\\_per\\_kg'\n",
       "\\item 'reanalysis\\_tdtr\\_k'\n",
       "\\item 'station\\_avg\\_temp\\_c'\n",
       "\\item 'station\\_diur\\_temp\\_rng\\_c'\n",
       "\\item 'station\\_max\\_temp\\_c'\n",
       "\\item 'station\\_min\\_temp\\_c'\n",
       "\\item 'station\\_precip\\_mm'\n",
       "\\end{enumerate*}\n"
      ],
      "text/markdown": [
       "1. 'city'\n",
       "2. 'ndvi_ne'\n",
       "3. 'ndvi_nw'\n",
       "4. 'ndvi_se'\n",
       "5. 'ndvi_sw'\n",
       "6. 'precipitation_amt_mm'\n",
       "7. 'reanalysis_air_temp_k'\n",
       "8. 'reanalysis_avg_temp_k'\n",
       "9. 'reanalysis_dew_point_temp_k'\n",
       "10. 'reanalysis_max_air_temp_k'\n",
       "11. 'reanalysis_min_air_temp_k'\n",
       "12. 'reanalysis_precip_amt_kg_per_m2'\n",
       "13. 'reanalysis_relative_humidity_percent'\n",
       "14. 'reanalysis_sat_precip_amt_mm'\n",
       "15. 'reanalysis_specific_humidity_g_per_kg'\n",
       "16. 'reanalysis_tdtr_k'\n",
       "17. 'station_avg_temp_c'\n",
       "18. 'station_diur_temp_rng_c'\n",
       "19. 'station_max_temp_c'\n",
       "20. 'station_min_temp_c'\n",
       "21. 'station_precip_mm'\n",
       "\n",
       "\n"
      ],
      "text/plain": [
       " [1] \"city\"                                 \n",
       " [2] \"ndvi_ne\"                              \n",
       " [3] \"ndvi_nw\"                              \n",
       " [4] \"ndvi_se\"                              \n",
       " [5] \"ndvi_sw\"                              \n",
       " [6] \"precipitation_amt_mm\"                 \n",
       " [7] \"reanalysis_air_temp_k\"                \n",
       " [8] \"reanalysis_avg_temp_k\"                \n",
       " [9] \"reanalysis_dew_point_temp_k\"          \n",
       "[10] \"reanalysis_max_air_temp_k\"            \n",
       "[11] \"reanalysis_min_air_temp_k\"            \n",
       "[12] \"reanalysis_precip_amt_kg_per_m2\"      \n",
       "[13] \"reanalysis_relative_humidity_percent\" \n",
       "[14] \"reanalysis_sat_precip_amt_mm\"         \n",
       "[15] \"reanalysis_specific_humidity_g_per_kg\"\n",
       "[16] \"reanalysis_tdtr_k\"                    \n",
       "[17] \"station_avg_temp_c\"                   \n",
       "[18] \"station_diur_temp_rng_c\"              \n",
       "[19] \"station_max_temp_c\"                   \n",
       "[20] \"station_min_temp_c\"                   \n",
       "[21] \"station_precip_mm\"                    "
      ]
     },
     "metadata": {},
     "output_type": "display_data"
    }
   ],
   "source": [
    "all_feature"
   ]
  },
  {
   "cell_type": "code",
   "execution_count": 16,
   "metadata": {},
   "outputs": [],
   "source": [
    "# summary of data\n",
    "# train[all_feature].describe().transpose()"
   ]
  },
  {
   "cell_type": "code",
   "execution_count": 100,
   "metadata": {
    "collapsed": true
   },
   "outputs": [],
   "source": [
    "# train_label$year <- as.factor(train_label$year)\n",
    "# train$year <- as.factor(train$year)"
   ]
  },
  {
   "cell_type": "code",
   "execution_count": 120,
   "metadata": {
    "collapsed": true
   },
   "outputs": [],
   "source": [
    "train$year_week <- paste(train_label$year,train_label$weekofyear,sep = \"-\")\n",
    "train_label$year_week <- paste(train_label$year,train_label$weekofyear,sep = \"-\")"
   ]
  },
  {
   "cell_type": "code",
   "execution_count": 130,
   "metadata": {
    "scrolled": true
   },
   "outputs": [],
   "source": [
    "train <- train[ order(train$year,train$weekofyear),]\n",
    "train_label <- train_label[ order(train_label$year,train_label$weekofyear),]"
   ]
  },
  {
   "cell_type": "code",
   "execution_count": 131,
   "metadata": {
    "scrolled": false
   },
   "outputs": [
    {
     "data": {
      "text/plain": [
       " city          year        weekofyear      week_start_date    ndvi_ne        \n",
       " iq:520   Min.   :1990   Min.   : 1.00   2000-07-01:   2   Min.   :-0.40625  \n",
       " sj:936   1st Qu.:1997   1st Qu.:13.75   2000-07-08:   2   1st Qu.: 0.04495  \n",
       "          Median :2002   Median :26.50   2000-07-15:   2   Median : 0.12882  \n",
       "          Mean   :2001   Mean   :26.50   2000-07-22:   2   Mean   : 0.14229  \n",
       "          3rd Qu.:2005   3rd Qu.:39.25   2000-07-29:   2   3rd Qu.: 0.24848  \n",
       "          Max.   :2010   Max.   :53.00   2000-08-05:   2   Max.   : 0.50836  \n",
       "                                         (Other)   :1444   NA's   :194       \n",
       "    ndvi_nw            ndvi_se            ndvi_sw         precipitation_amt_mm\n",
       " Min.   :-0.45610   Min.   :-0.01553   Min.   :-0.06346   Min.   :  0.00      \n",
       " 1st Qu.: 0.04922   1st Qu.: 0.15509   1st Qu.: 0.14421   1st Qu.:  9.80      \n",
       " Median : 0.12143   Median : 0.19605   Median : 0.18945   Median : 38.34      \n",
       " Mean   : 0.13055   Mean   : 0.20378   Mean   : 0.20231   Mean   : 45.76      \n",
       " 3rd Qu.: 0.21660   3rd Qu.: 0.24885   3rd Qu.: 0.24698   3rd Qu.: 70.23      \n",
       " Max.   : 0.45443   Max.   : 0.53831   Max.   : 0.54602   Max.   :390.60      \n",
       " NA's   :52         NA's   :22         NA's   :22         NA's   :13          \n",
       " reanalysis_air_temp_k reanalysis_avg_temp_k reanalysis_dew_point_temp_k\n",
       " Min.   :294.6         Min.   :294.9         Min.   :289.6              \n",
       " 1st Qu.:297.7         1st Qu.:298.3         1st Qu.:294.1              \n",
       " Median :298.6         Median :299.3         Median :295.6              \n",
       " Mean   :298.7         Mean   :299.2         Mean   :295.2              \n",
       " 3rd Qu.:299.8         3rd Qu.:300.2         3rd Qu.:296.5              \n",
       " Max.   :302.2         Max.   :302.9         Max.   :298.4              \n",
       " NA's   :10            NA's   :10            NA's   :10                 \n",
       " reanalysis_max_air_temp_k reanalysis_min_air_temp_k\n",
       " Min.   :297.8             Min.   :286.9            \n",
       " 1st Qu.:301.0             1st Qu.:293.9            \n",
       " Median :302.4             Median :296.2            \n",
       " Mean   :303.4             Mean   :295.7            \n",
       " 3rd Qu.:305.5             3rd Qu.:297.9            \n",
       " Max.   :314.0             Max.   :299.9            \n",
       " NA's   :10                NA's   :10               \n",
       " reanalysis_precip_amt_kg_per_m2 reanalysis_relative_humidity_percent\n",
       " Min.   :  0.00                  Min.   :57.79                       \n",
       " 1st Qu.: 13.05                  1st Qu.:77.18                       \n",
       " Median : 27.25                  Median :80.30                       \n",
       " Mean   : 40.15                  Mean   :82.16                       \n",
       " 3rd Qu.: 52.20                  3rd Qu.:86.36                       \n",
       " Max.   :570.50                  Max.   :98.61                       \n",
       " NA's   :10                      NA's   :10                          \n",
       " reanalysis_sat_precip_amt_mm reanalysis_specific_humidity_g_per_kg\n",
       " Min.   :  0.00               Min.   :11.72                        \n",
       " 1st Qu.:  9.80               1st Qu.:15.56                        \n",
       " Median : 38.34               Median :17.09                        \n",
       " Mean   : 45.76               Mean   :16.75                        \n",
       " 3rd Qu.: 70.23               3rd Qu.:17.98                        \n",
       " Max.   :390.60               Max.   :20.46                        \n",
       " NA's   :13                   NA's   :10                           \n",
       " reanalysis_tdtr_k station_avg_temp_c station_diur_temp_rng_c\n",
       " Min.   : 1.357    Min.   :21.40      Min.   : 4.529         \n",
       " 1st Qu.: 2.329    1st Qu.:26.30      1st Qu.: 6.514         \n",
       " Median : 2.857    Median :27.41      Median : 7.300         \n",
       " Mean   : 4.904    Mean   :27.19      Mean   : 8.059         \n",
       " 3rd Qu.: 7.625    3rd Qu.:28.16      3rd Qu.: 9.567         \n",
       " Max.   :16.029    Max.   :30.80      Max.   :15.800         \n",
       " NA's   :10        NA's   :43         NA's   :43             \n",
       " station_max_temp_c station_min_temp_c station_precip_mm  year_week        \n",
       " Min.   :26.70      Min.   :14.7       Min.   :  0.00    Length:1456       \n",
       " 1st Qu.:31.10      1st Qu.:21.1       1st Qu.:  8.70    Class :character  \n",
       " Median :32.80      Median :22.2       Median : 23.85    Mode  :character  \n",
       " Mean   :32.45      Mean   :22.1       Mean   : 39.33                      \n",
       " 3rd Qu.:33.90      3rd Qu.:23.3       3rd Qu.: 53.90                      \n",
       " Max.   :42.20      Max.   :25.6       Max.   :543.30                      \n",
       " NA's   :20         NA's   :14         NA's   :22                          "
      ]
     },
     "metadata": {},
     "output_type": "display_data"
    }
   ],
   "source": [
    "summary(train)"
   ]
  },
  {
   "cell_type": "code",
   "execution_count": 135,
   "metadata": {
    "scrolled": false
   },
   "outputs": [
    {
     "data": {},
     "metadata": {},
     "output_type": "display_data"
    },
    {
     "data": {
      "image/png": "[encoded data removed]"
     },
     "metadata": {},
     "output_type": "display_data"
    }
   ],
   "source": [
    "options(repr.plot.width=8, repr.plot.height=3)\n",
    "ggplot(data = train_label[train_label$year == 2001,],aes(x =year_week,y = total_cases,group= city)) + \n",
    "geom_line(aes(color=city)) + xlab(\"year_week\")"
   ]
  },
  {
   "cell_type": "markdown",
   "metadata": {},
   "source": [
    "## Missing values analysis and treatment"
   ]
  },
  {
   "cell_type": "code",
   "execution_count": 66,
   "metadata": {
    "scrolled": false
   },
   "outputs": [
    {
     "data": {
      "text/html": [
       "<dl class=dl-horizontal>\n",
       "\t<dt>city</dt>\n",
       "\t\t<dd>0</dd>\n",
       "\t<dt>year</dt>\n",
       "\t\t<dd>0</dd>\n",
       "\t<dt>weekofyear</dt>\n",
       "\t\t<dd>0</dd>\n",
       "\t<dt>week_start_date</dt>\n",
       "\t\t<dd>0</dd>\n",
       "\t<dt>ndvi_ne</dt>\n",
       "\t\t<dd>13.32</dd>\n",
       "\t<dt>ndvi_nw</dt>\n",
       "\t\t<dd>3.57</dd>\n",
       "\t<dt>ndvi_se</dt>\n",
       "\t\t<dd>1.51</dd>\n",
       "\t<dt>ndvi_sw</dt>\n",
       "\t\t<dd>1.51</dd>\n",
       "\t<dt>precipitation_amt_mm</dt>\n",
       "\t\t<dd>0.89</dd>\n",
       "\t<dt>reanalysis_air_temp_k</dt>\n",
       "\t\t<dd>0.69</dd>\n",
       "\t<dt>reanalysis_avg_temp_k</dt>\n",
       "\t\t<dd>0.69</dd>\n",
       "\t<dt>reanalysis_dew_point_temp_k</dt>\n",
       "\t\t<dd>0.69</dd>\n",
       "\t<dt>reanalysis_max_air_temp_k</dt>\n",
       "\t\t<dd>0.69</dd>\n",
       "\t<dt>reanalysis_min_air_temp_k</dt>\n",
       "\t\t<dd>0.69</dd>\n",
       "\t<dt>reanalysis_precip_amt_kg_per_m2</dt>\n",
       "\t\t<dd>0.69</dd>\n",
       "\t<dt>reanalysis_relative_humidity_percent</dt>\n",
       "\t\t<dd>0.69</dd>\n",
       "\t<dt>reanalysis_sat_precip_amt_mm</dt>\n",
       "\t\t<dd>0.89</dd>\n",
       "\t<dt>reanalysis_specific_humidity_g_per_kg</dt>\n",
       "\t\t<dd>0.69</dd>\n",
       "\t<dt>reanalysis_tdtr_k</dt>\n",
       "\t\t<dd>0.69</dd>\n",
       "\t<dt>station_avg_temp_c</dt>\n",
       "\t\t<dd>2.95</dd>\n",
       "\t<dt>station_diur_temp_rng_c</dt>\n",
       "\t\t<dd>2.95</dd>\n",
       "\t<dt>station_max_temp_c</dt>\n",
       "\t\t<dd>1.37</dd>\n",
       "\t<dt>station_min_temp_c</dt>\n",
       "\t\t<dd>0.96</dd>\n",
       "\t<dt>station_precip_mm</dt>\n",
       "\t\t<dd>1.51</dd>\n",
       "</dl>\n"
      ],
      "text/latex": [
       "\\begin{description*}\n",
       "\\item[city] 0\n",
       "\\item[year] 0\n",
       "\\item[weekofyear] 0\n",
       "\\item[week\\textbackslash{}\\_start\\textbackslash{}\\_date] 0\n",
       "\\item[ndvi\\textbackslash{}\\_ne] 13.32\n",
       "\\item[ndvi\\textbackslash{}\\_nw] 3.57\n",
       "\\item[ndvi\\textbackslash{}\\_se] 1.51\n",
       "\\item[ndvi\\textbackslash{}\\_sw] 1.51\n",
       "\\item[precipitation\\textbackslash{}\\_amt\\textbackslash{}\\_mm] 0.89\n",
       "\\item[reanalysis\\textbackslash{}\\_air\\textbackslash{}\\_temp\\textbackslash{}\\_k] 0.69\n",
       "\\item[reanalysis\\textbackslash{}\\_avg\\textbackslash{}\\_temp\\textbackslash{}\\_k] 0.69\n",
       "\\item[reanalysis\\textbackslash{}\\_dew\\textbackslash{}\\_point\\textbackslash{}\\_temp\\textbackslash{}\\_k] 0.69\n",
       "\\item[reanalysis\\textbackslash{}\\_max\\textbackslash{}\\_air\\textbackslash{}\\_temp\\textbackslash{}\\_k] 0.69\n",
       "\\item[reanalysis\\textbackslash{}\\_min\\textbackslash{}\\_air\\textbackslash{}\\_temp\\textbackslash{}\\_k] 0.69\n",
       "\\item[reanalysis\\textbackslash{}\\_precip\\textbackslash{}\\_amt\\textbackslash{}\\_kg\\textbackslash{}\\_per\\textbackslash{}\\_m2] 0.69\n",
       "\\item[reanalysis\\textbackslash{}\\_relative\\textbackslash{}\\_humidity\\textbackslash{}\\_percent] 0.69\n",
       "\\item[reanalysis\\textbackslash{}\\_sat\\textbackslash{}\\_precip\\textbackslash{}\\_amt\\textbackslash{}\\_mm] 0.89\n",
       "\\item[reanalysis\\textbackslash{}\\_specific\\textbackslash{}\\_humidity\\textbackslash{}\\_g\\textbackslash{}\\_per\\textbackslash{}\\_kg] 0.69\n",
       "\\item[reanalysis\\textbackslash{}\\_tdtr\\textbackslash{}\\_k] 0.69\n",
       "\\item[station\\textbackslash{}\\_avg\\textbackslash{}\\_temp\\textbackslash{}\\_c] 2.95\n",
       "\\item[station\\textbackslash{}\\_diur\\textbackslash{}\\_temp\\textbackslash{}\\_rng\\textbackslash{}\\_c] 2.95\n",
       "\\item[station\\textbackslash{}\\_max\\textbackslash{}\\_temp\\textbackslash{}\\_c] 1.37\n",
       "\\item[station\\textbackslash{}\\_min\\textbackslash{}\\_temp\\textbackslash{}\\_c] 0.96\n",
       "\\item[station\\textbackslash{}\\_precip\\textbackslash{}\\_mm] 1.51\n",
       "\\end{description*}\n"
      ],
      "text/markdown": [
       "city\n",
       ":   0year\n",
       ":   0weekofyear\n",
       ":   0week_start_date\n",
       ":   0ndvi_ne\n",
       ":   13.32ndvi_nw\n",
       ":   3.57ndvi_se\n",
       ":   1.51ndvi_sw\n",
       ":   1.51precipitation_amt_mm\n",
       ":   0.89reanalysis_air_temp_k\n",
       ":   0.69reanalysis_avg_temp_k\n",
       ":   0.69reanalysis_dew_point_temp_k\n",
       ":   0.69reanalysis_max_air_temp_k\n",
       ":   0.69reanalysis_min_air_temp_k\n",
       ":   0.69reanalysis_precip_amt_kg_per_m2\n",
       ":   0.69reanalysis_relative_humidity_percent\n",
       ":   0.69reanalysis_sat_precip_amt_mm\n",
       ":   0.89reanalysis_specific_humidity_g_per_kg\n",
       ":   0.69reanalysis_tdtr_k\n",
       ":   0.69station_avg_temp_c\n",
       ":   2.95station_diur_temp_rng_c\n",
       ":   2.95station_max_temp_c\n",
       ":   1.37station_min_temp_c\n",
       ":   0.96station_precip_mm\n",
       ":   1.51\n",
       "\n"
      ],
      "text/plain": [
       "                                 city                                  year \n",
       "                                 0.00                                  0.00 \n",
       "                           weekofyear                       week_start_date \n",
       "                                 0.00                                  0.00 \n",
       "                              ndvi_ne                               ndvi_nw \n",
       "                                13.32                                  3.57 \n",
       "                              ndvi_se                               ndvi_sw \n",
       "                                 1.51                                  1.51 \n",
       "                 precipitation_amt_mm                 reanalysis_air_temp_k \n",
       "                                 0.89                                  0.69 \n",
       "                reanalysis_avg_temp_k           reanalysis_dew_point_temp_k \n",
       "                                 0.69                                  0.69 \n",
       "            reanalysis_max_air_temp_k             reanalysis_min_air_temp_k \n",
       "                                 0.69                                  0.69 \n",
       "      reanalysis_precip_amt_kg_per_m2  reanalysis_relative_humidity_percent \n",
       "                                 0.69                                  0.69 \n",
       "         reanalysis_sat_precip_amt_mm reanalysis_specific_humidity_g_per_kg \n",
       "                                 0.89                                  0.69 \n",
       "                    reanalysis_tdtr_k                    station_avg_temp_c \n",
       "                                 0.69                                  2.95 \n",
       "              station_diur_temp_rng_c                    station_max_temp_c \n",
       "                                 2.95                                  1.37 \n",
       "                   station_min_temp_c                     station_precip_mm \n",
       "                                 0.96                                  1.51 "
      ]
     },
     "metadata": {},
     "output_type": "display_data"
    }
   ],
   "source": [
    "# percentage missing values in a variable\n",
    "apply(train,MARGIN = 2,function(x) round(sum(is.na(x))/length(x),4) *100)"
   ]
  },
  {
   "cell_type": "markdown",
   "metadata": {
    "collapsed": true
   },
   "source": [
    " We observe that in _ ndvi\\\\_\\\\ne_ varaible has 13% values missing"
   ]
  },
  {
   "cell_type": "code",
   "execution_count": 140,
   "metadata": {
    "scrolled": false
   },
   "outputs": [
    {
     "data": {
      "text/html": [
       "<table>\n",
       "<thead><tr><th></th><th scope=col>year</th><th scope=col>weekofyear</th></tr></thead>\n",
       "<tbody>\n",
       "\t<tr><th scope=row>6</th><td>1990</td><td>23  </td></tr>\n",
       "\t<tr><th scope=row>10</th><td>1990</td><td>27  </td></tr>\n",
       "\t<tr><th scope=row>14</th><td>1990</td><td>31  </td></tr>\n",
       "\t<tr><th scope=row>15</th><td>1990</td><td>32  </td></tr>\n",
       "\t<tr><th scope=row>16</th><td>1990</td><td>33  </td></tr>\n",
       "\t<tr><th scope=row>25</th><td>1990</td><td>42  </td></tr>\n",
       "\t<tr><th scope=row>37</th><td>1991</td><td> 2  </td></tr>\n",
       "\t<tr><th scope=row>38</th><td>1991</td><td> 3  </td></tr>\n",
       "\t<tr><th scope=row>43</th><td>1991</td><td> 8  </td></tr>\n",
       "\t<tr><th scope=row>46</th><td>1991</td><td>11  </td></tr>\n",
       "\t<tr><th scope=row>52</th><td>1991</td><td>17  </td></tr>\n",
       "\t<tr><th scope=row>55</th><td>1991</td><td>20  </td></tr>\n",
       "\t<tr><th scope=row>62</th><td>1991</td><td>27  </td></tr>\n",
       "\t<tr><th scope=row>64</th><td>1991</td><td>29  </td></tr>\n",
       "\t<tr><th scope=row>66</th><td>1991</td><td>31  </td></tr>\n",
       "\t<tr><th scope=row>86</th><td>1991</td><td>51  </td></tr>\n",
       "\t<tr><th scope=row>92</th><td>1992</td><td> 5  </td></tr>\n",
       "\t<tr><th scope=row>94</th><td>1992</td><td> 7  </td></tr>\n",
       "\t<tr><th scope=row>95</th><td>1992</td><td> 8  </td></tr>\n",
       "\t<tr><th scope=row>97</th><td>1992</td><td>10  </td></tr>\n",
       "\t<tr><th scope=row>100</th><td>1992</td><td>13  </td></tr>\n",
       "\t<tr><th scope=row>115</th><td>1992</td><td>28  </td></tr>\n",
       "\t<tr><th scope=row>123</th><td>1992</td><td>36  </td></tr>\n",
       "\t<tr><th scope=row>138</th><td>1992</td><td>51  </td></tr>\n",
       "\t<tr><th scope=row>143</th><td>1993</td><td> 3  </td></tr>\n",
       "\t<tr><th scope=row>148</th><td>1993</td><td> 8  </td></tr>\n",
       "\t<tr><th scope=row>154</th><td>1993</td><td>14  </td></tr>\n",
       "\t<tr><th scope=row>157</th><td>1993</td><td>17  </td></tr>\n",
       "\t<tr><th scope=row>164</th><td>1993</td><td>24  </td></tr>\n",
       "\t<tr><th scope=row>171</th><td>1993</td><td>31  </td></tr>\n",
       "\t<tr><th scope=row>...</th><td>...</td><td>...</td></tr>\n",
       "\t<tr><th scope=row>796</th><td>2005</td><td>32  </td></tr>\n",
       "\t<tr><th scope=row>799</th><td>2005</td><td>35  </td></tr>\n",
       "\t<tr><th scope=row>811</th><td>2005</td><td>47  </td></tr>\n",
       "\t<tr><th scope=row>812</th><td>2005</td><td>48  </td></tr>\n",
       "\t<tr><th scope=row>764</th><td>2005</td><td>53  </td></tr>\n",
       "\t<tr><th scope=row>1171</th><td>2005</td><td>53  </td></tr>\n",
       "\t<tr><th scope=row>828</th><td>2006</td><td>12  </td></tr>\n",
       "\t<tr><th scope=row>829</th><td>2006</td><td>13  </td></tr>\n",
       "\t<tr><th scope=row>835</th><td>2006</td><td>19  </td></tr>\n",
       "\t<tr><th scope=row>837</th><td>2006</td><td>21  </td></tr>\n",
       "\t<tr><th scope=row>849</th><td>2006</td><td>33  </td></tr>\n",
       "\t<tr><th scope=row>856</th><td>2006</td><td>40  </td></tr>\n",
       "\t<tr><th scope=row>860</th><td>2006</td><td>44  </td></tr>\n",
       "\t<tr><th scope=row>869</th><td>2007</td><td> 2  </td></tr>\n",
       "\t<tr><th scope=row>872</th><td>2007</td><td> 5  </td></tr>\n",
       "\t<tr><th scope=row>876</th><td>2007</td><td> 9  </td></tr>\n",
       "\t<tr><th scope=row>889</th><td>2007</td><td>22  </td></tr>\n",
       "\t<tr><th scope=row>895</th><td>2007</td><td>28  </td></tr>\n",
       "\t<tr><th scope=row>900</th><td>2007</td><td>33  </td></tr>\n",
       "\t<tr><th scope=row>903</th><td>2007</td><td>36  </td></tr>\n",
       "\t<tr><th scope=row>904</th><td>2007</td><td>37  </td></tr>\n",
       "\t<tr><th scope=row>910</th><td>2007</td><td>43  </td></tr>\n",
       "\t<tr><th scope=row>914</th><td>2007</td><td>47  </td></tr>\n",
       "\t<tr><th scope=row>916</th><td>2007</td><td>49  </td></tr>\n",
       "\t<tr><th scope=row>918</th><td>2007</td><td>51  </td></tr>\n",
       "\t<tr><th scope=row>921</th><td>2008</td><td> 2  </td></tr>\n",
       "\t<tr><th scope=row>922</th><td>2008</td><td> 3  </td></tr>\n",
       "\t<tr><th scope=row>924</th><td>2008</td><td> 5  </td></tr>\n",
       "\t<tr><th scope=row>928</th><td>2008</td><td> 9  </td></tr>\n",
       "\t<tr><th scope=row>1431</th><td>2010</td><td>53  </td></tr>\n",
       "</tbody>\n",
       "</table>\n"
      ],
      "text/latex": [
       "\\begin{tabular}{r|ll}\n",
       "  & year & weekofyear\\\\\n",
       "\\hline\n",
       "\t6 & 1990 & 23  \\\\\n",
       "\t10 & 1990 & 27  \\\\\n",
       "\t14 & 1990 & 31  \\\\\n",
       "\t15 & 1990 & 32  \\\\\n",
       "\t16 & 1990 & 33  \\\\\n",
       "\t25 & 1990 & 42  \\\\\n",
       "\t37 & 1991 &  2  \\\\\n",
       "\t38 & 1991 &  3  \\\\\n",
       "\t43 & 1991 &  8  \\\\\n",
       "\t46 & 1991 & 11  \\\\\n",
       "\t52 & 1991 & 17  \\\\\n",
       "\t55 & 1991 & 20  \\\\\n",
       "\t62 & 1991 & 27  \\\\\n",
       "\t64 & 1991 & 29  \\\\\n",
       "\t66 & 1991 & 31  \\\\\n",
       "\t86 & 1991 & 51  \\\\\n",
       "\t92 & 1992 &  5  \\\\\n",
       "\t94 & 1992 &  7  \\\\\n",
       "\t95 & 1992 &  8  \\\\\n",
       "\t97 & 1992 & 10  \\\\\n",
       "\t100 & 1992 & 13  \\\\\n",
       "\t115 & 1992 & 28  \\\\\n",
       "\t123 & 1992 & 36  \\\\\n",
       "\t138 & 1992 & 51  \\\\\n",
       "\t143 & 1993 &  3  \\\\\n",
       "\t148 & 1993 &  8  \\\\\n",
       "\t154 & 1993 & 14  \\\\\n",
       "\t157 & 1993 & 17  \\\\\n",
       "\t164 & 1993 & 24  \\\\\n",
       "\t171 & 1993 & 31  \\\\\n",
       "\t... & ... & ...\\\\\n",
       "\t796 & 2005 & 32  \\\\\n",
       "\t799 & 2005 & 35  \\\\\n",
       "\t811 & 2005 & 47  \\\\\n",
       "\t812 & 2005 & 48  \\\\\n",
       "\t764 & 2005 & 53  \\\\\n",
       "\t1171 & 2005 & 53  \\\\\n",
       "\t828 & 2006 & 12  \\\\\n",
       "\t829 & 2006 & 13  \\\\\n",
       "\t835 & 2006 & 19  \\\\\n",
       "\t837 & 2006 & 21  \\\\\n",
       "\t849 & 2006 & 33  \\\\\n",
       "\t856 & 2006 & 40  \\\\\n",
       "\t860 & 2006 & 44  \\\\\n",
       "\t869 & 2007 &  2  \\\\\n",
       "\t872 & 2007 &  5  \\\\\n",
       "\t876 & 2007 &  9  \\\\\n",
       "\t889 & 2007 & 22  \\\\\n",
       "\t895 & 2007 & 28  \\\\\n",
       "\t900 & 2007 & 33  \\\\\n",
       "\t903 & 2007 & 36  \\\\\n",
       "\t904 & 2007 & 37  \\\\\n",
       "\t910 & 2007 & 43  \\\\\n",
       "\t914 & 2007 & 47  \\\\\n",
       "\t916 & 2007 & 49  \\\\\n",
       "\t918 & 2007 & 51  \\\\\n",
       "\t921 & 2008 &  2  \\\\\n",
       "\t922 & 2008 &  3  \\\\\n",
       "\t924 & 2008 &  5  \\\\\n",
       "\t928 & 2008 &  9  \\\\\n",
       "\t1431 & 2010 & 53  \\\\\n",
       "\\end{tabular}\n"
      ],
      "text/markdown": [
       "\n",
       "| <!--/--> | year | weekofyear | \n",
       "|---|---|---|---|---|---|---|---|---|---|---|---|---|---|---|---|---|---|---|---|---|---|---|---|---|---|---|---|---|---|---|---|---|---|---|---|---|---|---|---|---|---|---|---|---|---|---|---|---|---|---|---|---|---|---|---|---|---|---|---|---|\n",
       "| 6 | 1990 | 23   | \n",
       "| 10 | 1990 | 27   | \n",
       "| 14 | 1990 | 31   | \n",
       "| 15 | 1990 | 32   | \n",
       "| 16 | 1990 | 33   | \n",
       "| 25 | 1990 | 42   | \n",
       "| 37 | 1991 |  2   | \n",
       "| 38 | 1991 |  3   | \n",
       "| 43 | 1991 |  8   | \n",
       "| 46 | 1991 | 11   | \n",
       "| 52 | 1991 | 17   | \n",
       "| 55 | 1991 | 20   | \n",
       "| 62 | 1991 | 27   | \n",
       "| 64 | 1991 | 29   | \n",
       "| 66 | 1991 | 31   | \n",
       "| 86 | 1991 | 51   | \n",
       "| 92 | 1992 |  5   | \n",
       "| 94 | 1992 |  7   | \n",
       "| 95 | 1992 |  8   | \n",
       "| 97 | 1992 | 10   | \n",
       "| 100 | 1992 | 13   | \n",
       "| 115 | 1992 | 28   | \n",
       "| 123 | 1992 | 36   | \n",
       "| 138 | 1992 | 51   | \n",
       "| 143 | 1993 |  3   | \n",
       "| 148 | 1993 |  8   | \n",
       "| 154 | 1993 | 14   | \n",
       "| 157 | 1993 | 17   | \n",
       "| 164 | 1993 | 24   | \n",
       "| 171 | 1993 | 31   | \n",
       "| ... | ... | ... | \n",
       "| 796 | 2005 | 32   | \n",
       "| 799 | 2005 | 35   | \n",
       "| 811 | 2005 | 47   | \n",
       "| 812 | 2005 | 48   | \n",
       "| 764 | 2005 | 53   | \n",
       "| 1171 | 2005 | 53   | \n",
       "| 828 | 2006 | 12   | \n",
       "| 829 | 2006 | 13   | \n",
       "| 835 | 2006 | 19   | \n",
       "| 837 | 2006 | 21   | \n",
       "| 849 | 2006 | 33   | \n",
       "| 856 | 2006 | 40   | \n",
       "| 860 | 2006 | 44   | \n",
       "| 869 | 2007 |  2   | \n",
       "| 872 | 2007 |  5   | \n",
       "| 876 | 2007 |  9   | \n",
       "| 889 | 2007 | 22   | \n",
       "| 895 | 2007 | 28   | \n",
       "| 900 | 2007 | 33   | \n",
       "| 903 | 2007 | 36   | \n",
       "| 904 | 2007 | 37   | \n",
       "| 910 | 2007 | 43   | \n",
       "| 914 | 2007 | 47   | \n",
       "| 916 | 2007 | 49   | \n",
       "| 918 | 2007 | 51   | \n",
       "| 921 | 2008 |  2   | \n",
       "| 922 | 2008 |  3   | \n",
       "| 924 | 2008 |  5   | \n",
       "| 928 | 2008 |  9   | \n",
       "| 1431 | 2010 | 53   | \n",
       "\n",
       "\n"
      ],
      "text/plain": [
       "     year weekofyear\n",
       "6    1990 23        \n",
       "10   1990 27        \n",
       "14   1990 31        \n",
       "15   1990 32        \n",
       "16   1990 33        \n",
       "25   1990 42        \n",
       "37   1991  2        \n",
       "38   1991  3        \n",
       "43   1991  8        \n",
       "46   1991 11        \n",
       "52   1991 17        \n",
       "55   1991 20        \n",
       "62   1991 27        \n",
       "64   1991 29        \n",
       "66   1991 31        \n",
       "86   1991 51        \n",
       "92   1992  5        \n",
       "94   1992  7        \n",
       "95   1992  8        \n",
       "97   1992 10        \n",
       "100  1992 13        \n",
       "115  1992 28        \n",
       "123  1992 36        \n",
       "138  1992 51        \n",
       "143  1993  3        \n",
       "148  1993  8        \n",
       "154  1993 14        \n",
       "157  1993 17        \n",
       "164  1993 24        \n",
       "171  1993 31        \n",
       "...  ...  ...       \n",
       "796  2005 32        \n",
       "799  2005 35        \n",
       "811  2005 47        \n",
       "812  2005 48        \n",
       "764  2005 53        \n",
       "1171 2005 53        \n",
       "828  2006 12        \n",
       "829  2006 13        \n",
       "835  2006 19        \n",
       "837  2006 21        \n",
       "849  2006 33        \n",
       "856  2006 40        \n",
       "860  2006 44        \n",
       "869  2007  2        \n",
       "872  2007  5        \n",
       "876  2007  9        \n",
       "889  2007 22        \n",
       "895  2007 28        \n",
       "900  2007 33        \n",
       "903  2007 36        \n",
       "904  2007 37        \n",
       "910  2007 43        \n",
       "914  2007 47        \n",
       "916  2007 49        \n",
       "918  2007 51        \n",
       "921  2008  2        \n",
       "922  2008  3        \n",
       "924  2008  5        \n",
       "928  2008  9        \n",
       "1431 2010 53        "
      ]
     },
     "metadata": {},
     "output_type": "display_data"
    }
   ],
   "source": [
    "train[is.na(train$ndvi_ne),c(\"year\",\"weekofyear\")]"
   ]
  },
  {
   "cell_type": "code",
   "execution_count": 124,
   "metadata": {
    "scrolled": true
   },
   "outputs": [
    {
     "name": "stderr",
     "output_type": "stream",
     "text": [
      "Warning message:\n",
      "\"Removed 1 rows containing missing values (geom_path).\""
     ]
    },
    {
     "data": {},
     "metadata": {},
     "output_type": "display_data"
    },
    {
     "data": {
      "image/png": "[encoded data removed]"
     },
     "metadata": {},
     "output_type": "display_data"
    }
   ],
   "source": [
    "ggplot(data = train,aes(x = year_week,y = ndvi_ne,group= city)) + \n",
    "geom_line(aes(color=city)) + xlab(\"year_week\")"
   ]
  },
  {
   "cell_type": "code",
   "execution_count": 78,
   "metadata": {
    "scrolled": false
   },
   "outputs": [
    {
     "name": "stderr",
     "output_type": "stream",
     "text": [
      "Warning message in summary.lm(lm(y[, i] ~ ., data = y[-i])):\n",
      "\"essentially perfect fit: summary may be unreliable\"Warning message in summary.lm(lm(y[, i] ~ ., data = y[-i])):\n",
      "\"essentially perfect fit: summary may be unreliable\""
     ]
    },
    {
     "data": {
      "text/html": [
       "<table>\n",
       "<thead><tr><th scope=col>Variables</th><th scope=col>VIF</th></tr></thead>\n",
       "<tbody>\n",
       "\t<tr><td>ndvi_ne                              </td><td>  4.367642                           </td></tr>\n",
       "\t<tr><td>ndvi_nw                              </td><td>  4.063301                           </td></tr>\n",
       "\t<tr><td>ndvi_se                              </td><td>  3.318134                           </td></tr>\n",
       "\t<tr><td>ndvi_sw                              </td><td>  3.867108                           </td></tr>\n",
       "\t<tr><td>precipitation_amt_mm                 </td><td>       Inf                           </td></tr>\n",
       "\t<tr><td>reanalysis_air_temp_k                </td><td>336.786945                           </td></tr>\n",
       "\t<tr><td>reanalysis_avg_temp_k                </td><td> 64.252208                           </td></tr>\n",
       "\t<tr><td>reanalysis_dew_point_temp_k          </td><td>487.706090                           </td></tr>\n",
       "\t<tr><td>reanalysis_max_air_temp_k            </td><td> 21.017146                           </td></tr>\n",
       "\t<tr><td>reanalysis_min_air_temp_k            </td><td> 25.766144                           </td></tr>\n",
       "\t<tr><td>reanalysis_precip_amt_kg_per_m2      </td><td>  1.904396                           </td></tr>\n",
       "\t<tr><td>reanalysis_relative_humidity_percent </td><td>375.003495                           </td></tr>\n",
       "\t<tr><td>reanalysis_sat_precip_amt_mm         </td><td>       Inf                           </td></tr>\n",
       "\t<tr><td>reanalysis_specific_humidity_g_per_kg</td><td>316.543260                           </td></tr>\n",
       "\t<tr><td>reanalysis_tdtr_k                    </td><td> 45.650348                           </td></tr>\n",
       "\t<tr><td>station_avg_temp_c                   </td><td>  9.227593                           </td></tr>\n",
       "\t<tr><td>station_diur_temp_rng_c              </td><td> 10.042118                           </td></tr>\n",
       "\t<tr><td>station_max_temp_c                   </td><td>  6.927496                           </td></tr>\n",
       "\t<tr><td>station_min_temp_c                   </td><td>  6.427135                           </td></tr>\n",
       "\t<tr><td>station_precip_mm                    </td><td>  1.452111                           </td></tr>\n",
       "</tbody>\n",
       "</table>\n"
      ],
      "text/latex": [
       "\\begin{tabular}{r|ll}\n",
       " Variables & VIF\\\\\n",
       "\\hline\n",
       "\t ndvi\\_ne                               &   4.367642                             \\\\\n",
       "\t ndvi\\_nw                               &   4.063301                             \\\\\n",
       "\t ndvi\\_se                               &   3.318134                             \\\\\n",
       "\t ndvi\\_sw                               &   3.867108                             \\\\\n",
       "\t precipitation\\_amt\\_mm                  &        Inf                               \\\\\n",
       "\t reanalysis\\_air\\_temp\\_k                 & 336.786945                                 \\\\\n",
       "\t reanalysis\\_avg\\_temp\\_k                 &  64.252208                                 \\\\\n",
       "\t reanalysis\\_dew\\_point\\_temp\\_k           & 487.706090                                   \\\\\n",
       "\t reanalysis\\_max\\_air\\_temp\\_k             &  21.017146                                   \\\\\n",
       "\t reanalysis\\_min\\_air\\_temp\\_k             &  25.766144                                   \\\\\n",
       "\t reanalysis\\_precip\\_amt\\_kg\\_per\\_m2       &   1.904396                                     \\\\\n",
       "\t reanalysis\\_relative\\_humidity\\_percent  & 375.003495                                 \\\\\n",
       "\t reanalysis\\_sat\\_precip\\_amt\\_mm          &        Inf                                   \\\\\n",
       "\t reanalysis\\_specific\\_humidity\\_g\\_per\\_kg & 316.543260                                     \\\\\n",
       "\t reanalysis\\_tdtr\\_k                     &  45.650348                               \\\\\n",
       "\t station\\_avg\\_temp\\_c                    &   9.227593                                 \\\\\n",
       "\t station\\_diur\\_temp\\_rng\\_c               &  10.042118                                   \\\\\n",
       "\t station\\_max\\_temp\\_c                    &   6.927496                                 \\\\\n",
       "\t station\\_min\\_temp\\_c                    &   6.427135                                 \\\\\n",
       "\t station\\_precip\\_mm                     &   1.452111                               \\\\\n",
       "\\end{tabular}\n"
      ],
      "text/markdown": [
       "\n",
       "Variables | VIF | \n",
       "|---|---|---|---|---|---|---|---|---|---|---|---|---|---|---|---|---|---|---|---|\n",
       "| ndvi_ne                               |   4.367642                            | \n",
       "| ndvi_nw                               |   4.063301                            | \n",
       "| ndvi_se                               |   3.318134                            | \n",
       "| ndvi_sw                               |   3.867108                            | \n",
       "| precipitation_amt_mm                  |        Inf                            | \n",
       "| reanalysis_air_temp_k                 | 336.786945                            | \n",
       "| reanalysis_avg_temp_k                 |  64.252208                            | \n",
       "| reanalysis_dew_point_temp_k           | 487.706090                            | \n",
       "| reanalysis_max_air_temp_k             |  21.017146                            | \n",
       "| reanalysis_min_air_temp_k             |  25.766144                            | \n",
       "| reanalysis_precip_amt_kg_per_m2       |   1.904396                            | \n",
       "| reanalysis_relative_humidity_percent  | 375.003495                            | \n",
       "| reanalysis_sat_precip_amt_mm          |        Inf                            | \n",
       "| reanalysis_specific_humidity_g_per_kg | 316.543260                            | \n",
       "| reanalysis_tdtr_k                     |  45.650348                            | \n",
       "| station_avg_temp_c                    |   9.227593                            | \n",
       "| station_diur_temp_rng_c               |  10.042118                            | \n",
       "| station_max_temp_c                    |   6.927496                            | \n",
       "| station_min_temp_c                    |   6.427135                            | \n",
       "| station_precip_mm                     |   1.452111                            | \n",
       "\n",
       "\n"
      ],
      "text/plain": [
       "   Variables                             VIF       \n",
       "1  ndvi_ne                                 4.367642\n",
       "2  ndvi_nw                                 4.063301\n",
       "3  ndvi_se                                 3.318134\n",
       "4  ndvi_sw                                 3.867108\n",
       "5  precipitation_amt_mm                         Inf\n",
       "6  reanalysis_air_temp_k                 336.786945\n",
       "7  reanalysis_avg_temp_k                  64.252208\n",
       "8  reanalysis_dew_point_temp_k           487.706090\n",
       "9  reanalysis_max_air_temp_k              21.017146\n",
       "10 reanalysis_min_air_temp_k              25.766144\n",
       "11 reanalysis_precip_amt_kg_per_m2         1.904396\n",
       "12 reanalysis_relative_humidity_percent  375.003495\n",
       "13 reanalysis_sat_precip_amt_mm                 Inf\n",
       "14 reanalysis_specific_humidity_g_per_kg 316.543260\n",
       "15 reanalysis_tdtr_k                      45.650348\n",
       "16 station_avg_temp_c                      9.227593\n",
       "17 station_diur_temp_rng_c                10.042118\n",
       "18 station_max_temp_c                      6.927496\n",
       "19 station_min_temp_c                      6.427135\n",
       "20 station_precip_mm                       1.452111"
      ]
     },
     "metadata": {},
     "output_type": "display_data"
    }
   ],
   "source": [
    "vif(train[,5:24])"
   ]
  },
  {
   "cell_type": "code",
   "execution_count": null,
   "metadata": {
    "collapsed": true
   },
   "outputs": [],
   "source": []
  }
 ],
 "metadata": {
  "kernelspec": {
   "display_name": "R",
   "language": "R",
   "name": "ir"
  },
  "language_info": {
   "codemirror_mode": "r",
   "file_extension": ".r",
   "mimetype": "text/x-r-source",
   "name": "R",
   "pygments_lexer": "r",
   "version": "3.4.3"
  }
 },
 "nbformat": 4,
 "nbformat_minor": 2
}
